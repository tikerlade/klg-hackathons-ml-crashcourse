{
 "cells": [
  {
   "cell_type": "markdown",
   "metadata": {},
   "source": [
    "# Занятие №2: Откуда брать данные для решения задачи\n",
    "Порой на ML-хакатонах выдают **обучающие данные**, на которых вы можете обучить свою модель, после чего она будет тестироваться на каком-то закрытом множестве **тестовых данных**. Это хорошая практика, но не всегда так происходит. Порой приходится искать данные для обучения самостоятельно.\n",
    "\n",
    "**Сегодня мы обсудим:**\n",
    "- откуда брать данные,\n",
    "- как их скачивать,\n",
    "- куда складывать,\n",
    "- как предобрабатывать данные (потому что разные задачи требуют разной предобработки данных).\n",
    "\n",
    "Также мы постараемся вынести этот кусок задачи в отдельный файлик, который впоследствии будем запускать через магическую-команду `%run` (о которой мы узнали на прошлом занятии). Это позволит нам ввести модульность в наших Jupyter-ноутбуках, разделять логику и не захламлять код.\n",
    "\n",
    "Несколько вещей, с которыми мы сегодня познакомимся:\n",
    "- Платформа [Kaggle](https://www.kaggle.com/),\n",
    "- Bash-команда `curl` (а также bash-скрипты),\n",
    "- Библиотека `pandas`,\n",
    "- Конфигурационные файлы `.yaml`.\n",
    "\n",
    "Ну и после того, как данные будут скачаны, мы их сможем прогнать через какую-то предобученную модель из библиотеки `transformers` (от платформы [HuggingFace](https://huggingface.co/)) в которой лежат многие современные предобученные модельки, которые можно использовать без какого-либо дополнительного обучения."
   ]
  },
  {
   "cell_type": "code",
   "execution_count": 1,
   "metadata": {},
   "outputs": [
    {
     "name": "stdout",
     "output_type": "stream",
     "text": [
      "Work in template.ipynb successfully finished!\n"
     ]
    }
   ],
   "source": [
    "%run ./../template.ipynb"
   ]
  },
  {
   "cell_type": "markdown",
   "metadata": {},
   "source": [
    "## Польза `config.yaml` файла\n",
    "При разработке продуктовых приложений имеет место использование **конфигурационных файлов**. В них вы можете прятать:\n",
    "\n",
    "- секретные ключи от API,\n",
    "- константные значения,\n",
    "- разрешаемые ID-шники пользователей\n",
    "- ...\n",
    "\n",
    "Польза такого файла в том, что вы не сохраняете эти данные внутри кода, предотвращая тем самым возможные утечки. Но также польза в том, что все константы хранятся в одном месте: их довольно легко поменять, и **они всегда под рукой**. Вам не надо их запоминать или складывать куда-то, где вы теряете над ними контроль.\n",
    "\n",
    "<div style=\"text-align:center\">\n",
    "    <img src=\"https://preview.redd.it/somethingsareforever-v0-hji8aypiql8b1.jpg?auto=webp&s=c74657dbca7c89f8f93359fd342ead46ab4ab97d\">\n",
    "</div>\n",
    "\n",
    "Однако стоит помнить, что такой файл надо **исключать** из трекинга в `git`. Для этого добавьте его в `.gitignore`. Иначе ваши ключи и переменные могут случайно оказаться в репозитории."
   ]
  },
  {
   "cell_type": "code",
   "execution_count": 3,
   "metadata": {},
   "outputs": [
    {
     "name": "stdout",
     "output_type": "stream",
     "text": [
      "# config file\n",
      "config.yaml\n",
      "\n",
      "# Byte-compiled / optimized / DLL files\n",
      "__pycache__/\n",
      "*.py[cod]\n",
      "*$py.class\n",
      "\n",
      "# C extensions\n",
      "*.so\n"
     ]
    }
   ],
   "source": [
    "!head ./../.gitignore"
   ]
  },
  {
   "cell_type": "code",
   "execution_count": 4,
   "metadata": {},
   "outputs": [],
   "source": [
    "!cat ./../config.yaml"
   ]
  },
  {
   "cell_type": "markdown",
   "metadata": {},
   "source": [
    "## Дополняем `template.ipynb`\n",
    "- Установка нужных библиотек из `requirements.txt`\n",
    "- Импортируем библиотеки\n",
    "- Загрузка `config.yaml` файлика"
   ]
  },
  {
   "cell_type": "markdown",
   "metadata": {},
   "source": []
  },
  {
   "cell_type": "markdown",
   "metadata": {},
   "source": [
    "## Скачиваем данные\n",
    "Обычно данные кладут в `./data/` директорию в корне репозитория. Данные можно скачивать:\n",
    "- С помощью API (например Kaggle, но для этого нужен токен),\n",
    "- Командой `curl ...` (по сути тоже руками),\n",
    "- Руками, скачав архив, и распаковав его.\n",
    "\n",
    "Для примера возьмем [Twitter Sentiment Analysis](https://www.kaggle.com/datasets/jp797498e/twitter-entity-sentiment-analysis) датасет с Kaggle\n",
    "\n",
    "<div style=\"text-align:center\">\n",
    "    <img src=\"https://i.imgflip.com/8akyzs.jpg\">\n",
    "</div>\n"
   ]
  },
  {
   "cell_type": "code",
   "execution_count": 5,
   "metadata": {},
   "outputs": [],
   "source": [
    "# Скачиваем данные\n",
    "..."
   ]
  },
  {
   "cell_type": "code",
   "execution_count": 7,
   "metadata": {},
   "outputs": [],
   "source": [
    "# Разбиваем на train/test\n",
    "..."
   ]
  },
  {
   "cell_type": "markdown",
   "metadata": {},
   "source": [
    "## Берем предобученную модельку с HuggingFace\n",
    "На HuggingFace дофига разных предобученных моделек на все случаи жизни:\n",
    "- NLP classification\n",
    "- NLP language modeling\n",
    "- CV classification (на самые разные классы)\n",
    "- CV object detection\n",
    "- ...\n",
    "\n",
    "Для нашей задачи там тоже [есть модели](https://huggingface.co/models?pipeline_tag=text-classification&sort=downloads&search=sentiment)\n"
   ]
  },
  {
   "cell_type": "code",
   "execution_count": null,
   "metadata": {},
   "outputs": [],
   "source": []
  }
 ],
 "metadata": {
  "kernelspec": {
   "display_name": "Python 3",
   "language": "python",
   "name": "python3"
  },
  "language_info": {
   "codemirror_mode": {
    "name": "ipython",
    "version": 3
   },
   "file_extension": ".py",
   "mimetype": "text/x-python",
   "name": "python",
   "nbconvert_exporter": "python",
   "pygments_lexer": "ipython3",
   "version": "3.13.1"
  }
 },
 "nbformat": 4,
 "nbformat_minor": 2
}
