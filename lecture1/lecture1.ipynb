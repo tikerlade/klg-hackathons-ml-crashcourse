{
 "cells": [
  {
   "cell_type": "markdown",
   "metadata": {},
   "source": [
    "# ML трек для курса \"Высшая Лига\" в Калининграде февраль - март 2025\n",
    "На этом треке мы будем разбираться, как надо делать ML на хакатонах, чтоб повысить шансы на победу за счет ML на хакатонах. Будем делать это на примере кейса, который вы выбрали командой:\n",
    "1. Система анализа качества воздуха с датчиков\n",
    "2. Приложение для ухода за растениями\n",
    "3. SkillMatch - платформа умного подбора менторов и курсов\n",
    "\n",
    "Постараемся решить кейс так, чтобы после завершения курса у вас остались не только знания, но и какие-то шаблоны, которые можно будет переиспользовать на реальных хакатонах.\n",
    "\n",
    "## Чего ожидать от курса?\n",
    "- Много фидбека по вашим решениям\n",
    "- Изучения новых инструментов\n",
    "- Шаблонизация разных компонент ваших решений\n",
    "- _Иногда шуток_\n",
    "\n",
    "## Чего **НЕ** ожидать от курса?\n",
    "- Теоретического обоснования работоспособности моделей"
   ]
  },
  {
   "cell_type": "markdown",
   "metadata": {},
   "source": [
    "## Кто я такой?\n",
    "- ML Разработчик в Яндексе\n",
    "- ex-ML Researcher в Huawei\n",
    "- Судья Чемпионата и Первенства России ФСП 2024\n",
    "- Эксперт Цифрового Прорыва 2024\n",
    "\n",
    "Окончил магистратуру СПбГУ и ШАД, проводил курсы по \"ML & Art\" в Сириусе,\n",
    "летнюю школу по Fine-tuning'у ML моделей на факультете.\n",
    "\n",
    "5 лет занимаюсь машинным обучением. Успел побывать и в роли\n",
    "исследователя и в роли инженера, который внедряет модели в продакшн.\n",
    "\n",
    "Компетенции\n",
    "- ML в поисковых системах\n",
    "- Использование ML в продуктовых хакатонах\n",
    "- Быстрый сбор ML пайплайнов\n",
    "- Дизайн ML экспериментов"
   ]
  },
  {
   "cell_type": "markdown",
   "metadata": {},
   "source": [
    "## Давайте знакомиться! Чего вы знаете про ML?\n",
    "- Какие модели / библиотеки уже использовали?\n",
    "- Какую самую сложную задачу решали?\n",
    "- Чего хотели бы в ML изучить?\n",
    "- Какой трек выбрали?\n",
    "\n",
    "<div style=\"text-align:center\">\n",
    "    <img src=\"https://i.pinimg.com/736x/ed/cb/7a/edcb7a56b7dc6fb631b3981f4576b44d.jpg\">\n",
    "</div>"
   ]
  },
  {
   "cell_type": "markdown",
   "metadata": {},
   "source": [
    "# Занятие 1: Введение в кейсы и как можно прокачиваться на ML хакатонах\n",
    "- [x] Познакомиться\n",
    "- [ ] Разобрать кейсы с точки зрения ML\n",
    "- [ ] Научиться пользоваться \"магическими командами\" в `.ipynb`\n",
    "- [ ] Настроить `.ipynb` файлик, который будет нашим шаблоном"
   ]
  },
  {
   "cell_type": "markdown",
   "metadata": {},
   "source": [
    "# Занятие 1: Как можно прокачиваться на ML хакатонах и введение в кейсы\n",
    "## Как побеждать на хакатонах с использованием ML?\n",
    "<div style=\"text-align:center\">\n",
    "    <img src=\"https://avatars.mds.yandex.net/i?id=92d645e2f852739e80e800913126b2e58288dfe6f387b21d-12267805-images-thumbs&n=13\">\n",
    "</div>\n",
    "\n",
    "* Делать решения быстрыми (и подтверждать быстроту замерами)\n",
    "* Делать reliable решения, которые не подвержены случайным выбросам\n",
    "* Давать доступ к своей модели\n",
    "* Уже в конце крутить метрику"
   ]
  },
  {
   "cell_type": "markdown",
   "metadata": {},
   "source": [
    "## Как можно прокачивать себя для ML хакатонов?\n",
    "1. Хард скилы\n",
    "    * Изучаем новые ML-модели для работы с данными\n",
    "    * Учимся лучше предобрабатывать данные\n",
    "    * Читаем посты других участников / изучаем чужие решения\n",
    "2. Оптимизация процессов\n",
    "    * Заготовка шаблонных функций и `import`ов\n",
    "    * Заготовка скриптов для инференса и эвала моделей\n",
    "\n",
    "<div style=\"text-align:center\">\n",
    "    <img src=\"https://www.oreilly.com/api/v2/epubs/9781492053187/files/assets/bmlp_0104.png\">\n",
    "</div>\n"
   ]
  },
  {
   "cell_type": "markdown",
   "metadata": {},
   "source": [
    "# Кейсы"
   ]
  },
  {
   "cell_type": "markdown",
   "metadata": {},
   "source": [
    "## Кейс №1 💨 **\"Система анализа качества воздуха с датчиков\"** 1/2\n",
    "### Описание проблемы\n",
    "В современных городах качество воздуха становится критическим фактором здоровья населения. Существующие системы мониторинга часто не предоставляют персонализированной информации и рекомендаций для конкретных пользователей и локаций.\n",
    "\n",
    "### Требования к решению\n",
    "* Простая модель прогнозирования на 24 часа\n",
    "* Базовый анализ трендов\n",
    "* Простые рекомендации на основе пороговых значений\n",
    "\n",
    "### ⚠️ Action required! ⚠️ \n",
    "* Q1: Что это за задача с точки зрения ML?\n",
    "* Q2: Какой здесь мог бы быть бейзлайн?"
   ]
  },
  {
   "cell_type": "markdown",
   "metadata": {},
   "source": [
    "## Кейс №1 💨 **\"Система анализа качества воздуха с датчиков\"** 2/2\n",
    "### Задача с точки зрения ML\n",
    "* Задачу можно отнести к Time Series\n",
    "* Надо быть аккуратным при сборе обучающих данных (Time leakage)\n",
    "* Можно строить сложные архитектуры из разных ML модулей\n",
    "    * Базовый - предсказание на основе табличных данных\n",
    "    * Новостной - берет данные о близлижащих заводах, и т. п.\n",
    "    * Визуальный - добавляем данные с камер\n",
    "\n",
    "### Датасеты\n",
    "* [Urban Air Pollution Dataset](https://www.kaggle.com/datasets/bappekim/air-pollution-in-seoul)\n",
    "* [Air Quality Index Dataset](https://www.kaggle.com/datasets/rohanrao/air-quality-data-in-india)\n",
    "* [Beijing Air Quality](https://www.kaggle.com/datasets/sid321axn/beijing-multisite-airquality-data-set)\n",
    "* [Air Quality Madrid](https://www.kaggle.com/datasets/decide-soluciones/air-quality-madrid)\n",
    "* [OpenAQ API - данные о качестве воздуха в реальном времени](https://openaq.org/#/)\n",
    "* [World Air Quality Index API](https://aqicn.org/api/)"
   ]
  },
  {
   "cell_type": "markdown",
   "metadata": {},
   "source": [
    "## Кейс №2 🌸 **\"Приложение для ухода за растениями\"** 1/2\n",
    "### Описание проблемы\n",
    "Создать базовое мобильное приложение для помощи в уходе за домашними растениями с простой системой распознавания и базовыми рекомендациями.\n",
    "\n",
    "### Требования к решению\n",
    "1. Простая классификация растений:\n",
    "- Определение 5-7 популярных комнатных растений\n",
    "- Базовое определение состояния (здоровое/нездоровое)\n",
    "2. Простые рекомендации:\n",
    "- График полива на основе вида растения\n",
    "- Базовые советы по уходу\n",
    "\n",
    "### ⚠️ Action required! ⚠️ \n",
    "* Q1: Что это за задача с точки зрения ML?\n",
    "* Q2: Какой здесь мог бы быть бейзлайн?"
   ]
  },
  {
   "cell_type": "markdown",
   "metadata": {},
   "source": [
    "## Кейс №2 🌸 **\"Приложение для ухода за растениями\"** 2/2\n",
    "### Задача с точки зрения ML\n",
    "* Задачу можно отнести к Computer Vision - Image Classification\n",
    "* Можно экспериментировать с одной моделью, но разными классифицирующими головами\n",
    "* Можно после классификатора отправлять данные с вопросами про растение в LLM \n",
    "\n",
    "### Датасеты\n",
    "- [Plant Disease Dataset](https://www.kaggle.com/datasets/abdallahalidev/plantvillage-dataset)\n",
    "- [Plant Seedlings Classification](https://www.kaggle.com/competitions/plant-seedlings-classification/data)\n",
    "- [Trefle API - API для данных о растениях](https://trefle.io/)\n",
    "- [Plant.id API - API для идентификации растений](https://web.plant.id/)\n",
    "- [Oxford Flowers Dataset](https://www.robots.ox.ac.uk/~vgg/data/flowers/)\n",
    "- [iNaturalist Challenge Dataset](https://www.kaggle.com/c/inaturalist-2019-fgvc6/data)\n",
    "- [Medicinal Plants Dataset](https://www.kaggle.com/datasets/aryashah2k/indian-medicinal-leaves-dataset)"
   ]
  },
  {
   "cell_type": "markdown",
   "metadata": {},
   "source": [
    "## Кейс №3 🥷 **\"SkillMatch - платформа умного подбора менторов и курсов\"**\n",
    "### Описание проблемы\n",
    "Создание веб-платформы, которая с помощью ИИ анализирует текущий уровень пользователя и его цели, после чего предлагает оптимальный план развития, включающий комбинацию менторских сессий и онлайн-курсов.\n",
    "\n",
    "### Требования к решению\n",
    "- Подбор персонализированного плана обучения\n",
    "- Определение уровня пользователя\n",
    "- Построить связи между навыками и курсами\n",
    "- Определение оптимальной стоимости менторских сессий\n",
    "\n",
    "### ⚠️ Action required! ⚠️ \n",
    "* Q1: Что это за задача с точки зрения ML?\n",
    "* Q2: Какой здесь мог бы быть бейзлайн?\n",
    "\n",
    "### Датасеты\n",
    "1. Для навыков и профессий\n",
    "   - [LinkedIn Skills Dataset](https://www.kaggle.com/datasets/peopledatalabssf/free-7-million-company-dataset)\n",
    "   - [O*NET Database (база профессиональных навыков)](https://www.onetonline.org/download/)\n",
    "\n",
    "2. Для образовательных курсов\n",
    "   - [Coursera Courses Dataset](https://www.kaggle.com/datasets/siddharthm1698/coursera-course-dataset)\n",
    "   - [Udemy Courses Dataset](https://www.kaggle.com/datasets/andrewmvd/udemy-courses)\n",
    "   - [edX Course Data](https://www.kaggle.com/datasets/khusheekapoor/edx-courses-dataset-2021)\n",
    "\n",
    "3. Для менторства и обучения\n",
    "   - [Teaching Assistant Evaluation Dataset](https://archive.ics.uci.edu/dataset/73/teaching+assistant+evaluation)\n",
    "   - [Student Performance Dataset](https://www.kaggle.com/datasets/spscientist/students-performance-in-exams)\n",
    "\n",
    "4. Для рекомендательной системы\n",
    "   - [Amazon Product Reviews](https://www.kaggle.com/datasets/cynthiarempel/amazon-us-customer-reviews-dataset)\n",
    "   - [Movie Lens Dataset (можно адаптировать принципы рекомендаций)](https://grouplens.org/datasets/movielens/)\n",
    "\n",
    "5. Для анализа профессиональных профилей\n",
    "   - Indeed Job Postings\n",
    "   - [GitHub Users Dataset](https://www.kaggle.com/datasets/nikhil25803/github-dataset)\n",
    "\n",
    "6. Для ценообразования\n",
    "   - [Online Education Pricing Dataset](https://www.kaggle.com/datasets/imuhammad/edx-courses)"
   ]
  },
  {
   "cell_type": "markdown",
   "metadata": {},
   "source": [
    "# Содержательная часть - Jupter Notebook\n",
    "Если еще не установлен, то вот [ссылка](https://jupyter.org/install)"
   ]
  },
  {
   "cell_type": "markdown",
   "metadata": {},
   "source": [
    "## Как пользоваться магическими командами в Jupyter Notebook?\n",
    "Магические команды в Jupyter Notebook — это специальные команды, которые обеспечивают доступ к некоторым встроенным функциям и настройкам, а также позволяют управлять средой выполнения. Существуют два типа магических команд: строковые (line magics) и ячеечные (cell magics). Строковые команды начинаются с одного знака процента `%`, а ячеечные — с двух процентов `%%`.\n",
    "\n",
    "**Строковые магические команды**: они применяются к одной строке кода. "
   ]
  },
  {
   "cell_type": "code",
   "execution_count": 2,
   "metadata": {},
   "outputs": [
    {
     "name": "stdout",
     "output_type": "stream",
     "text": [
      "33.2 μs ± 140 ns per loop (mean ± std. dev. of 7 runs, 10,000 loops each)\n"
     ]
    }
   ],
   "source": [
    "%timeit x = [i**2 for i in range(1000)]"
   ]
  },
  {
   "cell_type": "markdown",
   "metadata": {},
   "source": [
    "**Ячеечные магические команды**: они применяются ко всей ячейке. Например:"
   ]
  },
  {
   "cell_type": "code",
   "execution_count": 3,
   "metadata": {},
   "outputs": [
    {
     "name": "stdout",
     "output_type": "stream",
     "text": [
      "79.9 μs ± 633 ns per loop (mean ± std. dev. of 7 runs, 10,000 loops each)\n"
     ]
    }
   ],
   "source": [
    "%%timeit\n",
    "x = [i**2 for i in range(1000)]\n",
    "y = [i**3 for i in range(1000)]"
   ]
  },
  {
   "cell_type": "markdown",
   "metadata": {},
   "source": [
    "### Некоторые полезные магические команды\n",
    "\n",
    "- `%lsmagic`: показывает список всех доступных магических команд.\n",
    "- `%time` и `%timeit`: измеряют время выполнения кода.\n",
    "    - `%time` используется для одноразовых измерений,\n",
    "    - `%timeit` — для многократных.\n",
    "- `%matplotlib inline`: используется для отображения графиков matplotlib непосредственно в ячейках Jupyter Notebook.\n",
    "- `%run`: выполняет Python-скрипт из файла.\n",
    "- `%debug`: запускает интерактивный отладчик после исключения.\n",
    "- `%%writefile`: записывает содержимое ячейки в файл.\n"
   ]
  },
  {
   "cell_type": "code",
   "execution_count": 4,
   "metadata": {},
   "outputs": [
    {
     "name": "stdout",
     "output_type": "stream",
     "text": [
      "Writing my_script.py\n"
     ]
    }
   ],
   "source": [
    "%%writefile my_script.py\n",
    "def hello():\n",
    "    print(\"Hello, world!\")"
   ]
  },
  {
   "cell_type": "markdown",
   "metadata": {},
   "source": [
    "Отдельный интерес представляет команда `%run`, с помощью нее мы можем запускать другие Jupyter Notebook'и"
   ]
  },
  {
   "cell_type": "code",
   "execution_count": 1,
   "metadata": {},
   "outputs": [
    {
     "name": "stdout",
     "output_type": "stream",
     "text": [
      "  % Total    % Received % Xferd  Average Speed   Time    Time     Time  Current\n",
      "                                 Dload  Upload   Total   Spent    Left  Speed\n",
      "  0     0    0     0    0     0      0      0 --:--:-- --:--:-- --:--:--     0\n",
      "100 19.6M  100 19.6M    0     0  5350k      0  0:00:03  0:00:03 --:--:-- 7896k\n"
     ]
    }
   ],
   "source": [
    "%run template.ipynb"
   ]
  },
  {
   "cell_type": "markdown",
   "metadata": {},
   "source": [
    "## И еще полезное!"
   ]
  },
  {
   "cell_type": "code",
   "execution_count": 6,
   "metadata": {},
   "outputs": [
    {
     "name": "stdout",
     "output_type": "stream",
     "text": [
      "total 16\n",
      "drwxr-xr-x   7 obivan  LD\\Domain Users   224 Feb  6 11:23 \u001b[1m\u001b[36m.\u001b[m\u001b[m\n",
      "drwxr-xr-x  17 obivan  LD\\Domain Users   544 Feb  6 11:19 \u001b[1m\u001b[36m..\u001b[m\u001b[m\n",
      "drwxr-xr-x  12 obivan  LD\\Domain Users   384 Feb  6 15:39 \u001b[1m\u001b[36m.git\u001b[m\u001b[m\n",
      "-rw-r--r--   1 obivan  LD\\Domain Users  3415 Feb  6 11:20 .gitignore\n",
      "-rw-r--r--   1 obivan  LD\\Domain Users   101 Feb  6 11:23 README.md\n",
      "drwxr-xr-x   6 obivan  LD\\Domain Users   192 Feb  6 16:00 \u001b[1m\u001b[36mlecture1\u001b[m\u001b[m\n",
      "drwxr-xr-x   3 obivan  LD\\Domain Users    96 Feb  6 11:23 \u001b[1m\u001b[36mmisc\u001b[m\u001b[m\n"
     ]
    }
   ],
   "source": [
    "files = \"./..\"\n",
    "!ls -al $files"
   ]
  },
  {
   "cell_type": "markdown",
   "metadata": {},
   "source": [
    "## Домашнее задание\n",
    "1. Создать репозиторий на гитхабе, в котором вы будете решать выбранный кейс\n",
    "2. Залить ссылку на репозиторий в Гугл хранилище, которые вам выдали\n",
    "3. Создать свой template.ipynb и добавить в него все `import`'ы, которые вам часто пригождаются\n",
    "4. *Добавить часто-используемые функции в ноутбук (ну, вдруг у вас уже накопились)"
   ]
  },
  {
   "cell_type": "markdown",
   "metadata": {},
   "source": []
  }
 ],
 "metadata": {
  "kernelspec": {
   "display_name": "Python 3",
   "language": "python",
   "name": "python3"
  },
  "language_info": {
   "codemirror_mode": {
    "name": "ipython",
    "version": 3
   },
   "file_extension": ".py",
   "mimetype": "text/x-python",
   "name": "python",
   "nbconvert_exporter": "python",
   "pygments_lexer": "ipython3",
   "version": "3.13.1"
  }
 },
 "nbformat": 4,
 "nbformat_minor": 2
}
