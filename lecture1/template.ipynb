{
 "cells": [
  {
   "cell_type": "code",
   "execution_count": null,
   "metadata": {},
   "outputs": [],
   "source": [
    "# !curl -L -o ~/Downloads/air-pollution-in-seoul.zip\\\n",
    "#   https://www.kaggle.com/api/v1/datasets/download/bappekim/air-pollution-in-seoul"
   ]
  }
 ],
 "metadata": {
  "language_info": {
   "name": "python"
  }
 },
 "nbformat": 4,
 "nbformat_minor": 2
}
